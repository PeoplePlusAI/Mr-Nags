{
 "cells": [
  {
   "cell_type": "code",
   "execution_count": 110,
   "metadata": {},
   "outputs": [],
   "source": [
    "import json\n",
    "import inspect\n",
    "from openai import OpenAI\n",
    "from typing import get_type_hints\n",
    "\n",
    "from pydantic import BaseModel, Field\n",
    "from typing import List, Dict, Optional\n",
    "from rich import print_json\n",
    "import rich\n",
    "import instructor"
   ]
  },
  {
   "cell_type": "code",
   "execution_count": 116,
   "metadata": {},
   "outputs": [],
   "source": [
    "class FunctionInfo(BaseModel):\n",
    "    tool_name: str\n",
    "    tool_inputs: dict\n",
    "\n",
    "class Functions(BaseModel):\n",
    "    tool_names: Optional[List[str]] = Field(description=\"Names of the tools required to execute the user query in the order of execution if user query is a task\", default=None)\n",
    "    parameters: Optional[Dict[str, dict]] = Field(description=\"input parameters of tools applicable to user query in the format key is tool name value is a dictionary of parameter names and values\", default=None)\n",
    "\n",
    "    \n"
   ]
  },
  {
   "cell_type": "code",
   "execution_count": 117,
   "metadata": {},
   "outputs": [],
   "source": [
    "client = instructor.patch(\n",
    "    OpenAI(\n",
    "        base_url=\"http://localhost:11434/v1\",\n",
    "        api_key=\"ollama\",  # required, but unused\n",
    "    ),\n",
    "    mode=instructor.Mode.JSON,\n",
    ")\n",
    "\n",
    "def generate_full_completion(model: str, prompt: str, **kwargs) -> dict:\n",
    "    try:\n",
    "        # Using patched OpenAI API\n",
    "        response = client.chat.completions.create(\n",
    "            model=model,\n",
    "            messages=[{\"role\": \"user\", \"content\": prompt}],\n",
    "            response_model=Functions,\n",
    "        )\n",
    "        return response.dict()\n",
    "    except Exception as err:\n",
    "        return {\"error\": f\"API call error: {str(err)}\"}\n",
    "\n",
    "def get_type_name(t):\n",
    "    name = str(t)\n",
    "    if \"list\" in name or \"dict\" in name:\n",
    "        return name\n",
    "    else:\n",
    "        return t.__name__\n",
    "\n",
    "def function_to_json(func):\n",
    "    signature = inspect.signature(func)\n",
    "    type_hints = get_type_hints(func)\n",
    "\n",
    "    function_info = {\n",
    "        \"name\": func.__name__,\n",
    "        \"description\": func.__doc__,\n",
    "        \"parameters\": {\"type\": \"object\", \"properties\": {}},\n",
    "        \"returns\": type_hints.get(\"return\", \"void\").__name__,\n",
    "    }\n",
    "\n",
    "    for name, _ in signature.parameters.items():\n",
    "        param_type = get_type_name(type_hints.get(name, type(None)))\n",
    "        function_info[\"parameters\"][\"properties\"][name] = {\"type\": param_type}\n",
    "\n",
    "    return json.dumps(function_info, indent=2)\n",
    "\n"
   ]
  },
  {
   "cell_type": "code",
   "execution_count": 118,
   "metadata": {},
   "outputs": [],
   "source": [
    "def file_complaint(data: dict) -> dict:\n",
    "    \"\"\"\n",
    "    Function to file a complaint with the following values inside the data dictionary:\n",
    "    - name: Name of the person filing the complaint\n",
    "    - username: Username of the person filing the complaint\n",
    "    - description: Description of the complaint\n",
    "    - mobile_number: Mobile number of the person filing the complaint\n",
    "    \"\"\"\n",
    "    # TODO - Implement this function\n",
    "\n",
    "def search_complaints(data: dict) -> dict:\n",
    "    \"\"\"\n",
    "    Function to search complaints with the following values inside the data dictionary:\n",
    "    - username: Username of the person searching the complaint\n",
    "    - mobile_number: Mobile number of the person searching the complaint\n",
    "    \"\"\"\n",
    "    # TODO - Implement this function\n",
    "\n",
    "def find_city(data: dict) -> dict:\n",
    "    \"\"\"\n",
    "    Function to find city with the following values inside the data dictionary:\n",
    "    - city_name: Name of the city to search\n",
    "    \"\"\"\n",
    "    # TODO - Implement this function"
   ]
  },
  {
   "cell_type": "code",
   "execution_count": 127,
   "metadata": {},
   "outputs": [
    {
     "name": "stdout",
     "output_type": "stream",
     "text": [
      "❓User Query: I want to file a complaint in kormangala Bangalore. My name is Gopi and my username is gopi123. The complaint is regarding the garbage collection in my area. The service code is 1234. My mobile number is 1234567890\n"
     ]
    },
    {
     "name": "stderr",
     "output_type": "stream",
     "text": [
      "/var/folders/ld/8bgljzsn4sx_x1lb3wl_mnnm0000gn/T/ipykernel_8400/832746851.py:17: PydanticDeprecatedSince20: The `dict` method is deprecated; use `model_dump` instead. Deprecated in Pydantic V2.0 to be removed in V3.0. See Pydantic V2 Migration Guide at https://errors.pydantic.dev/2.4/migration/\n",
      "  return response.dict()\n"
     ]
    },
    {
     "data": {
      "text/html": [
       "<pre style=\"white-space:pre;overflow-x:auto;line-height:normal;font-family:Menlo,'DejaVu Sans Mono',consolas,'Courier New',monospace\"><span style=\"font-weight: bold\">{</span>\n",
       "  <span style=\"color: #000080; text-decoration-color: #000080; font-weight: bold\">\"tool_names\"</span>: <span style=\"font-weight: bold\">[</span>\n",
       "    <span style=\"color: #008000; text-decoration-color: #008000\">\"file_complaint\"</span>\n",
       "  <span style=\"font-weight: bold\">]</span>,\n",
       "  <span style=\"color: #000080; text-decoration-color: #000080; font-weight: bold\">\"parameters\"</span>: <span style=\"font-weight: bold\">{</span>\n",
       "    <span style=\"color: #000080; text-decoration-color: #000080; font-weight: bold\">\"data\"</span>: <span style=\"font-weight: bold\">{</span>\n",
       "      <span style=\"color: #000080; text-decoration-color: #000080; font-weight: bold\">\"name\"</span>: <span style=\"color: #008000; text-decoration-color: #008000\">\"Gopi\"</span>,\n",
       "      <span style=\"color: #000080; text-decoration-color: #000080; font-weight: bold\">\"username\"</span>: <span style=\"color: #008000; text-decoration-color: #008000\">\"gopi123\"</span>,\n",
       "      <span style=\"color: #000080; text-decoration-color: #000080; font-weight: bold\">\"description\"</span>: <span style=\"color: #008000; text-decoration-color: #008000\">\"Regarding garbage collection in area\"</span>,\n",
       "      <span style=\"color: #000080; text-decoration-color: #000080; font-weight: bold\">\"mobile_number\"</span>: <span style=\"color: #008000; text-decoration-color: #008000\">\"1234567890\"</span>\n",
       "    <span style=\"font-weight: bold\">}</span>\n",
       "  <span style=\"font-weight: bold\">}</span>\n",
       "<span style=\"font-weight: bold\">}</span>\n",
       "</pre>\n"
      ],
      "text/plain": [
       "\u001b[1m{\u001b[0m\n",
       "  \u001b[1;34m\"tool_names\"\u001b[0m: \u001b[1m[\u001b[0m\n",
       "    \u001b[32m\"file_complaint\"\u001b[0m\n",
       "  \u001b[1m]\u001b[0m,\n",
       "  \u001b[1;34m\"parameters\"\u001b[0m: \u001b[1m{\u001b[0m\n",
       "    \u001b[1;34m\"data\"\u001b[0m: \u001b[1m{\u001b[0m\n",
       "      \u001b[1;34m\"name\"\u001b[0m: \u001b[32m\"Gopi\"\u001b[0m,\n",
       "      \u001b[1;34m\"username\"\u001b[0m: \u001b[32m\"gopi123\"\u001b[0m,\n",
       "      \u001b[1;34m\"description\"\u001b[0m: \u001b[32m\"Regarding garbage collection in area\"\u001b[0m,\n",
       "      \u001b[1;34m\"mobile_number\"\u001b[0m: \u001b[32m\"1234567890\"\u001b[0m\n",
       "    \u001b[1m}\u001b[0m\n",
       "  \u001b[1m}\u001b[0m\n",
       "\u001b[1m}\u001b[0m\n"
      ]
     },
     "metadata": {},
     "output_type": "display_data"
    },
    {
     "name": "stdout",
     "output_type": "stream",
     "text": [
      "❓User Query: Check if Kormangala is a city in Bangalore.\n"
     ]
    },
    {
     "data": {
      "text/html": [
       "<pre style=\"white-space:pre;overflow-x:auto;line-height:normal;font-family:Menlo,'DejaVu Sans Mono',consolas,'Courier New',monospace\"><span style=\"font-weight: bold\">{</span>\n",
       "  <span style=\"color: #000080; text-decoration-color: #000080; font-weight: bold\">\"error\"</span>: <span style=\"color: #008000; text-decoration-color: #008000\">\"API call error: 2 validation errors for Functions\\nparameters.username\\n  Input should be an object [type=dict_type, input_value='userquery', input_type=str]\\n    For further information visit https://errors.pydantic.dev/2.4/v/dict_type\\nparameters.mobile_number\\n  Input should be an object [type=dict_type, input_value='1234567890', input_type=str]\\n    For further information visit https://errors.pydantic.dev/2.4/v/dict_type\"</span>\n",
       "<span style=\"font-weight: bold\">}</span>\n",
       "</pre>\n"
      ],
      "text/plain": [
       "\u001b[1m{\u001b[0m\n",
       "  \u001b[1;34m\"error\"\u001b[0m: \u001b[32m\"API call error: 2 validation errors for Functions\\nparameters.username\\n  Input should be an object [type=dict_type, input_value='userquery', input_type=str]\\n    For further information visit https://errors.pydantic.dev/2.4/v/dict_type\\nparameters.mobile_number\\n  Input should be an object [type=dict_type, input_value='1234567890', input_type=str]\\n    For further information visit https://errors.pydantic.dev/2.4/v/dict_type\"\u001b[0m\n",
       "\u001b[1m}\u001b[0m\n"
      ]
     },
     "metadata": {},
     "output_type": "display_data"
    },
    {
     "name": "stdout",
     "output_type": "stream",
     "text": [
      "❓User Query: Search status of my complaint. My username is gopi123 and my mobile number is 1234567890. My name is Gopi.\n"
     ]
    },
    {
     "data": {
      "text/html": [
       "<pre style=\"white-space:pre;overflow-x:auto;line-height:normal;font-family:Menlo,'DejaVu Sans Mono',consolas,'Courier New',monospace\"><span style=\"font-weight: bold\">{</span>\n",
       "  <span style=\"color: #000080; text-decoration-color: #000080; font-weight: bold\">\"tool_names\"</span>: <span style=\"font-weight: bold\">[</span>\n",
       "    <span style=\"color: #008000; text-decoration-color: #008000\">\"search_complaints\"</span>\n",
       "  <span style=\"font-weight: bold\">]</span>,\n",
       "  <span style=\"color: #000080; text-decoration-color: #000080; font-weight: bold\">\"parameters\"</span>: <span style=\"font-weight: bold\">{</span>\n",
       "    <span style=\"color: #000080; text-decoration-color: #000080; font-weight: bold\">\"data\"</span>: <span style=\"font-weight: bold\">{</span>\n",
       "      <span style=\"color: #000080; text-decoration-color: #000080; font-weight: bold\">\"username\"</span>: <span style=\"color: #008000; text-decoration-color: #008000\">\"gopi123\"</span>,\n",
       "      <span style=\"color: #000080; text-decoration-color: #000080; font-weight: bold\">\"mobile_number\"</span>: <span style=\"color: #008000; text-decoration-color: #008000\">\"1234567890\"</span>,\n",
       "      <span style=\"color: #000080; text-decoration-color: #000080; font-weight: bold\">\"name\"</span>: <span style=\"color: #008000; text-decoration-color: #008000\">\"Gopi\"</span>\n",
       "    <span style=\"font-weight: bold\">}</span>\n",
       "  <span style=\"font-weight: bold\">}</span>\n",
       "<span style=\"font-weight: bold\">}</span>\n",
       "</pre>\n"
      ],
      "text/plain": [
       "\u001b[1m{\u001b[0m\n",
       "  \u001b[1;34m\"tool_names\"\u001b[0m: \u001b[1m[\u001b[0m\n",
       "    \u001b[32m\"search_complaints\"\u001b[0m\n",
       "  \u001b[1m]\u001b[0m,\n",
       "  \u001b[1;34m\"parameters\"\u001b[0m: \u001b[1m{\u001b[0m\n",
       "    \u001b[1;34m\"data\"\u001b[0m: \u001b[1m{\u001b[0m\n",
       "      \u001b[1;34m\"username\"\u001b[0m: \u001b[32m\"gopi123\"\u001b[0m,\n",
       "      \u001b[1;34m\"mobile_number\"\u001b[0m: \u001b[32m\"1234567890\"\u001b[0m,\n",
       "      \u001b[1;34m\"name\"\u001b[0m: \u001b[32m\"Gopi\"\u001b[0m\n",
       "    \u001b[1m}\u001b[0m\n",
       "  \u001b[1m}\u001b[0m\n",
       "\u001b[1m}\u001b[0m\n"
      ]
     },
     "metadata": {},
     "output_type": "display_data"
    },
    {
     "name": "stdout",
     "output_type": "stream",
     "text": [
      "❓User Query: Hello how are you ?\n"
     ]
    },
    {
     "data": {
      "text/html": [
       "<pre style=\"white-space:pre;overflow-x:auto;line-height:normal;font-family:Menlo,'DejaVu Sans Mono',consolas,'Courier New',monospace\"><span style=\"font-weight: bold\">{</span>\n",
       "  <span style=\"color: #000080; text-decoration-color: #000080; font-weight: bold\">\"tool_names\"</span>: <span style=\"font-weight: bold\">[</span>\n",
       "    <span style=\"color: #008000; text-decoration-color: #008000\">\"file_complaint\"</span>,\n",
       "    <span style=\"color: #008000; text-decoration-color: #008000\">\"search_complaints\"</span>\n",
       "  <span style=\"font-weight: bold\">]</span>,\n",
       "  <span style=\"color: #000080; text-decoration-color: #000080; font-weight: bold\">\"parameters\"</span>: <span style=\"font-weight: bold\">{</span>\n",
       "    <span style=\"color: #000080; text-decoration-color: #000080; font-weight: bold\">\"file_complaint\"</span>: <span style=\"font-weight: bold\">{</span>\n",
       "      <span style=\"color: #000080; text-decoration-color: #000080; font-weight: bold\">\"data\"</span>: <span style=\"font-weight: bold\">{</span>\n",
       "        <span style=\"color: #000080; text-decoration-color: #000080; font-weight: bold\">\"name\"</span>: <span style=\"color: #008000; text-decoration-color: #008000\">\"Name of the person filing the complaint\"</span>,\n",
       "        <span style=\"color: #000080; text-decoration-color: #000080; font-weight: bold\">\"username\"</span>: <span style=\"color: #008000; text-decoration-color: #008000\">\"User\"</span>,\n",
       "        <span style=\"color: #000080; text-decoration-color: #000080; font-weight: bold\">\"description\"</span>: <span style=\"color: #008000; text-decoration-color: #008000\">\"Description of the complaint\"</span>,\n",
       "        <span style=\"color: #000080; text-decoration-color: #000080; font-weight: bold\">\"mobile_number\"</span>: <span style=\"color: #008000; text-decoration-color: #008000\">\"1234567890\"</span>\n",
       "      <span style=\"font-weight: bold\">}</span>\n",
       "    <span style=\"font-weight: bold\">}</span>,\n",
       "    <span style=\"color: #000080; text-decoration-color: #000080; font-weight: bold\">\"search_complaints\"</span>: <span style=\"font-weight: bold\">{</span>\n",
       "      <span style=\"color: #000080; text-decoration-color: #000080; font-weight: bold\">\"data\"</span>: <span style=\"font-weight: bold\">{</span>\n",
       "        <span style=\"color: #000080; text-decoration-color: #000080; font-weight: bold\">\"username\"</span>: <span style=\"color: #008000; text-decoration-color: #008000\">\"User\"</span>,\n",
       "        <span style=\"color: #000080; text-decoration-color: #000080; font-weight: bold\">\"mobile_number\"</span>: <span style=\"color: #008000; text-decoration-color: #008000\">\"1234567890\"</span>\n",
       "      <span style=\"font-weight: bold\">}</span>\n",
       "    <span style=\"font-weight: bold\">}</span>\n",
       "  <span style=\"font-weight: bold\">}</span>\n",
       "<span style=\"font-weight: bold\">}</span>\n",
       "</pre>\n"
      ],
      "text/plain": [
       "\u001b[1m{\u001b[0m\n",
       "  \u001b[1;34m\"tool_names\"\u001b[0m: \u001b[1m[\u001b[0m\n",
       "    \u001b[32m\"file_complaint\"\u001b[0m,\n",
       "    \u001b[32m\"search_complaints\"\u001b[0m\n",
       "  \u001b[1m]\u001b[0m,\n",
       "  \u001b[1;34m\"parameters\"\u001b[0m: \u001b[1m{\u001b[0m\n",
       "    \u001b[1;34m\"file_complaint\"\u001b[0m: \u001b[1m{\u001b[0m\n",
       "      \u001b[1;34m\"data\"\u001b[0m: \u001b[1m{\u001b[0m\n",
       "        \u001b[1;34m\"name\"\u001b[0m: \u001b[32m\"Name of the person filing the complaint\"\u001b[0m,\n",
       "        \u001b[1;34m\"username\"\u001b[0m: \u001b[32m\"User\"\u001b[0m,\n",
       "        \u001b[1;34m\"description\"\u001b[0m: \u001b[32m\"Description of the complaint\"\u001b[0m,\n",
       "        \u001b[1;34m\"mobile_number\"\u001b[0m: \u001b[32m\"1234567890\"\u001b[0m\n",
       "      \u001b[1m}\u001b[0m\n",
       "    \u001b[1m}\u001b[0m,\n",
       "    \u001b[1;34m\"search_complaints\"\u001b[0m: \u001b[1m{\u001b[0m\n",
       "      \u001b[1;34m\"data\"\u001b[0m: \u001b[1m{\u001b[0m\n",
       "        \u001b[1;34m\"username\"\u001b[0m: \u001b[32m\"User\"\u001b[0m,\n",
       "        \u001b[1;34m\"mobile_number\"\u001b[0m: \u001b[32m\"1234567890\"\u001b[0m\n",
       "      \u001b[1m}\u001b[0m\n",
       "    \u001b[1m}\u001b[0m\n",
       "  \u001b[1m}\u001b[0m\n",
       "\u001b[1m}\u001b[0m\n"
      ]
     },
     "metadata": {},
     "output_type": "display_data"
    }
   ],
   "source": [
    "def main():\n",
    "    GPT_MODEL = \"llama2\"\n",
    "\n",
    "    prompts = [\n",
    "        \"I want to file a complaint in kormangala Bangalore. My name is Gopi and my username is gopi123. The complaint is regarding the garbage collection in my area. The service code is 1234. My mobile number is 1234567890\",\n",
    "        \"Check if Kormangala is a city in Bangalore.\",\n",
    "        \"Search status of my complaint. My username is gopi123 and my mobile number is 1234567890. My name is Gopi.\",\n",
    "        \"Hello how are you ?\" \n",
    "    ]\n",
    "\n",
    "    base_prompt = f\"\"\"Think step by step. You have the following tools available. \n",
    "    Select only tools that are 100% match with the user query.\n",
    "    Select the parameters for the tool only if it is available in the user query. Do not try to generate parameters.\n",
    "    Return the selected tool names and input parameters associated with each tool name.\n",
    "    available tools:\\n\n",
    "    \"\"\"\n",
    "\n",
    "    base_prompt = (\n",
    "        f\"{base_prompt}\\n\"\n",
    "        f\"{function_to_json(file_complaint)}\\n\"\n",
    "        f\"{function_to_json(search_complaints)}\\n\"\n",
    "        f\"{function_to_json(find_city)}\\n\"\n",
    "        f\"User Query:\"\n",
    "    )\n",
    "\n",
    "    for prompt in prompts:\n",
    "        # Generate completion\n",
    "        question = f\"{base_prompt} {prompt}\"\n",
    "        print(f\"❓User Query: {prompt}\")\n",
    "        response = generate_full_completion(GPT_MODEL, question)\n",
    "        try:\n",
    "            tidy_response =response.get(\"response\", response)\n",
    "            print_json(data=tidy_response)\n",
    "        except Exception as e:\n",
    "            print(e)\n",
    "            print(f\"❌ Unable to decode JSON. {response}\")\n",
    "\n",
    "main()"
   ]
  }
 ],
 "metadata": {
  "kernelspec": {
   "display_name": "llm",
   "language": "python",
   "name": "python3"
  },
  "language_info": {
   "codemirror_mode": {
    "name": "ipython",
    "version": 3
   },
   "file_extension": ".py",
   "mimetype": "text/x-python",
   "name": "python",
   "nbconvert_exporter": "python",
   "pygments_lexer": "ipython3",
   "version": "3.10.13"
  }
 },
 "nbformat": 4,
 "nbformat_minor": 2
}
