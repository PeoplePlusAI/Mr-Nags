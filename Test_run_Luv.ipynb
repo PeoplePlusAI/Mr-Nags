{
  "nbformat": 4,
  "nbformat_minor": 0,
  "metadata": {
    "colab": {
      "provenance": []
    },
    "kernelspec": {
      "name": "python3",
      "display_name": "Python 3"
    },
    "language_info": {
      "name": "python"
    }
  },
  "cells": [
    {
      "cell_type": "code",
      "source": [
        "# test run\n",
        "import openai\n",
        "import re\n",
        "from openai._client import OpenAI\n",
        "client = OpenAI()\n",
        "\n",
        "import requests\n",
        "import json\n",
        "\n",
        "client = OpenAI()\n",
        "\n",
        "def clean(query):\n",
        "\n",
        "  # regex to clean the input string\n",
        "  # Remove non-alphanumeric characters except spaces and periods\n",
        "  clean_query = re.sub(r\"[^a-zA-Z0-9\\s.]\", \"\", query)\n",
        "\n",
        "\n",
        "  # Check whether the prompt is complete - validation layer\n",
        "  # Basic check for length and content\n",
        "  if len(clean_query) < 5 or clean_query.strip(\".\") == \"\":\n",
        "      return \"Try Again. Please provide more details about your complaint.\"\n",
        "\n",
        "  # reprompt using LLM itself\n",
        "  # If input passes basic validation but still needs clarification\n",
        "\n",
        "  instruction = f\"\"\"\n",
        "  Rewrite the user's input for filing a complaint so that it is clear and specific. If it is incomplete or blank, output 'Try Again'\n",
        "  \"\"\"\n",
        "\n",
        "  messages = [{\"role\": \"system\", \"content\": instruction},\n",
        "              # {\"role\": \"assistant\", \"content\": \"What is your complaint? Also mention the locality from where the complaint is being filed.\"},\n",
        "              {\"role\": \"user\", \"content\": clean_query}\n",
        "            ]\n",
        "  response = client.chat.completions.create(\n",
        "      model=\"gpt-4-1106-preview\",\n",
        "      messages=messages,\n",
        "  )\n",
        "  response_message = response.choices[0].message\n",
        "\n",
        "  # Check if LLM response is asking for a retry\n",
        "  if \"Try Again\" in response_message:\n",
        "      return \"Try Again. Please provide a clearer description of your complaint.\"\n",
        "\n",
        "  return response_message\n",
        "\n",
        "def run_conversation():\n",
        "    query = input(\"Hi Active Citizen, please write your complaint.\")\n",
        "    complaint = clean(query)\n",
        "\n",
        "    category_list = ['StreetLights', 'Garbage', 'Drains'] # can add all 19 unique categories\n",
        "    categories = ', '.join(category_list)\n",
        "\n",
        "    # using few shot prompting\n",
        "    instruction = f\"\"\"\n",
        "    You are a helpful assitant who helps users file complaints. Read the following user complaint and classify it into one of the following categories:\n",
        "    {categories}\n",
        "    Complaint: {complaint}\n",
        "    Category: <Output the correct Category here>\n",
        "\n",
        "    ### Below are some examples of user complaints and their correct classifications:\n",
        "\n",
        "    Example 1:\n",
        "    Complaint: 'Excessive garbage burning in our city poses a major health threat. Illegal fires emit toxic smoke, worsening air quality. Urgent action is needed to remove and manage plastic waste.'\n",
        "    Classification: Garbage\n",
        "\n",
        "    Example 2:\n",
        "    Complaint: 'There's a broken streetlight on Main Street near the library. It's been dark for a few weeks now, and it feels unsafe to walk there at night. Can this be fixed soon?'\n",
        "    Classification: StreetLights\n",
        "\n",
        "    Example 3:\n",
        "    Complaint: 'The drainage system on Elm Street is clogged. During the last rain, water overflowed and flooded the basements of several houses. The drains need to be cleaned to prevent further damage.'\n",
        "    Classification: Drains\n",
        "\n",
        "    \"\"\"\n",
        "\n",
        "    messages = [{\"role\": \"system\", \"content\": instruction},\n",
        "                {\"role\": \"assistant\", \"content\": \"What is your complaint? Also mention the locality from where the complaint is being filed.\"},\n",
        "                {\"role\": \"user\", \"content\": complaint}\n",
        "              ]\n",
        "    response = client.chat.completions.create(\n",
        "        model=\"gpt-4-1106-preview\",\n",
        "        messages=messages,\n",
        "        #tools=tools,\n",
        "        #tool_choice=\"auto\",  # auto is default, but we'll be explicit\n",
        "    )\n",
        "    response_message = response.choices[0].message\n",
        "\n",
        "    return response_message"
      ],
      "metadata": {
        "id": "P21FsMlDtE29"
      },
      "execution_count": null,
      "outputs": []
    },
    {
      "cell_type": "code",
      "source": [
        "run_conversation()"
      ],
      "metadata": {
        "colab": {
          "base_uri": "https://localhost:8080/"
        },
        "id": "qBXqwPC-u2-5",
        "outputId": "431d5b4a-8f0b-4935-cfee-77e063b73489"
      },
      "execution_count": null,
      "outputs": [
        {
          "name": "stdout",
          "output_type": "stream",
          "text": [
            "Hi Active Citizen, please write your complaint. Attach images if you have one\n",
            "My streets are filled with trash cans and household waste\n"
          ]
        },
        {
          "output_type": "execute_result",
          "data": {
            "text/plain": [
              "ChatCompletionMessage(content='Category: Garbage', role='assistant', function_call=None, tool_calls=None)"
            ]
          },
          "metadata": {},
          "execution_count": 12
        }
      ]
    },
    {
      "cell_type": "code",
      "source": [
        "run_conversation()"
      ],
      "metadata": {
        "colab": {
          "base_uri": "https://localhost:8080/"
        },
        "id": "tnGNpn0tvHi6",
        "outputId": "967ea5bf-2a61-42e9-b700-94bf0f8be4d8"
      },
      "execution_count": null,
      "outputs": [
        {
          "name": "stdout",
          "output_type": "stream",
          "text": [
            "Hi Active Citizen, please write your complaint. Attach images if you have one\n",
            "My drain has a lot of garbage in it \n"
          ]
        },
        {
          "output_type": "execute_result",
          "data": {
            "text/plain": [
              "ChatCompletionMessage(content='Category: Drains', role='assistant', function_call=None, tool_calls=None)"
            ]
          },
          "metadata": {},
          "execution_count": 11
        }
      ]
    },
    {
      "cell_type": "code",
      "source": [
        "run_conversation()"
      ],
      "metadata": {
        "colab": {
          "base_uri": "https://localhost:8080/"
        },
        "id": "Lz14bRq6S4lH",
        "outputId": "e8b7fa9c-e46d-4caa-d15c-8d8b3fbc4232"
      },
      "execution_count": null,
      "outputs": [
        {
          "name": "stdout",
          "output_type": "stream",
          "text": [
            "Hi Active Citizen, please write your complaint.\n"
          ]
        },
        {
          "output_type": "execute_result",
          "data": {
            "text/plain": [
              "ChatCompletionMessage(content='Category: Unable to classify (the provided text is a prompt for more information rather than a complaint with sufficient details to classify)', role='assistant', function_call=None, tool_calls=None)"
            ]
          },
          "metadata": {},
          "execution_count": 8
        }
      ]
    },
    {
      "cell_type": "code",
      "source": [],
      "metadata": {
        "id": "StiGBam0mtQu"
      },
      "execution_count": null,
      "outputs": []
    }
  ]
}